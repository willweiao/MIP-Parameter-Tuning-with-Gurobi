{
 "cells": [
  {
   "cell_type": "markdown",
   "id": "9cc0544c",
   "metadata": {},
   "source": [
    "# 03. Dataset Analysis"
   ]
  },
  {
   "cell_type": "markdown",
   "id": "2f8387d1",
   "metadata": {},
   "source": [
    "## Imports"
   ]
  },
  {
   "cell_type": "code",
   "execution_count": 1,
   "id": "7ed84d58",
   "metadata": {},
   "outputs": [],
   "source": [
    "import pandas as pd\n",
    "import numpy as np\n",
    "import matplotlib.pyplot as plt\n",
    "import seaborn as sns"
   ]
  },
  {
   "cell_type": "markdown",
   "id": "d2f240c3",
   "metadata": {},
   "source": [
    "## Load the Dataset"
   ]
  },
  {
   "cell_type": "code",
   "execution_count": 3,
   "id": "80f07f54",
   "metadata": {},
   "outputs": [
    {
     "data": {
      "text/html": [
       "<div>\n",
       "<style scoped>\n",
       "    .dataframe tbody tr th:only-of-type {\n",
       "        vertical-align: middle;\n",
       "    }\n",
       "\n",
       "    .dataframe tbody tr th {\n",
       "        vertical-align: top;\n",
       "    }\n",
       "\n",
       "    .dataframe thead th {\n",
       "        text-align: right;\n",
       "    }\n",
       "</style>\n",
       "<table border=\"1\" class=\"dataframe\">\n",
       "  <thead>\n",
       "    <tr style=\"text-align: right;\">\n",
       "      <th></th>\n",
       "      <th>instance</th>\n",
       "      <th>VariablesVari.</th>\n",
       "      <th>BinariesBina.</th>\n",
       "      <th>IntegersInte.</th>\n",
       "      <th>ContinuousCont.</th>\n",
       "      <th>ConstraintsCons.</th>\n",
       "      <th>Nonz.Nonz.</th>\n",
       "      <th>param_id</th>\n",
       "      <th>runtime</th>\n",
       "      <th>gap</th>\n",
       "      <th>status</th>\n",
       "      <th>objval</th>\n",
       "    </tr>\n",
       "  </thead>\n",
       "  <tbody>\n",
       "    <tr>\n",
       "      <th>0</th>\n",
       "      <td>30n20b8</td>\n",
       "      <td>18380</td>\n",
       "      <td>18318</td>\n",
       "      <td>62</td>\n",
       "      <td>0</td>\n",
       "      <td>576</td>\n",
       "      <td>109706</td>\n",
       "      <td>0</td>\n",
       "      <td>2.487</td>\n",
       "      <td>0.0</td>\n",
       "      <td>2</td>\n",
       "      <td>302.0</td>\n",
       "    </tr>\n",
       "    <tr>\n",
       "      <th>1</th>\n",
       "      <td>30n20b8</td>\n",
       "      <td>18380</td>\n",
       "      <td>18318</td>\n",
       "      <td>62</td>\n",
       "      <td>0</td>\n",
       "      <td>576</td>\n",
       "      <td>109706</td>\n",
       "      <td>1</td>\n",
       "      <td>90.003</td>\n",
       "      <td>0.0</td>\n",
       "      <td>9</td>\n",
       "      <td>302.0</td>\n",
       "    </tr>\n",
       "    <tr>\n",
       "      <th>2</th>\n",
       "      <td>30n20b8</td>\n",
       "      <td>18380</td>\n",
       "      <td>18318</td>\n",
       "      <td>62</td>\n",
       "      <td>0</td>\n",
       "      <td>576</td>\n",
       "      <td>109706</td>\n",
       "      <td>2</td>\n",
       "      <td>90.005</td>\n",
       "      <td>0.0</td>\n",
       "      <td>9</td>\n",
       "      <td>302.0</td>\n",
       "    </tr>\n",
       "    <tr>\n",
       "      <th>3</th>\n",
       "      <td>30n20b8</td>\n",
       "      <td>18380</td>\n",
       "      <td>18318</td>\n",
       "      <td>62</td>\n",
       "      <td>0</td>\n",
       "      <td>576</td>\n",
       "      <td>109706</td>\n",
       "      <td>3</td>\n",
       "      <td>4.297</td>\n",
       "      <td>0.0</td>\n",
       "      <td>2</td>\n",
       "      <td>302.0</td>\n",
       "    </tr>\n",
       "    <tr>\n",
       "      <th>4</th>\n",
       "      <td>30n20b8</td>\n",
       "      <td>18380</td>\n",
       "      <td>18318</td>\n",
       "      <td>62</td>\n",
       "      <td>0</td>\n",
       "      <td>576</td>\n",
       "      <td>109706</td>\n",
       "      <td>4</td>\n",
       "      <td>69.428</td>\n",
       "      <td>0.0</td>\n",
       "      <td>2</td>\n",
       "      <td>302.0</td>\n",
       "    </tr>\n",
       "  </tbody>\n",
       "</table>\n",
       "</div>"
      ],
      "text/plain": [
       "  instance  VariablesVari.  BinariesBina.  IntegersInte.  ContinuousCont.  \\\n",
       "0  30n20b8           18380          18318             62                0   \n",
       "1  30n20b8           18380          18318             62                0   \n",
       "2  30n20b8           18380          18318             62                0   \n",
       "3  30n20b8           18380          18318             62                0   \n",
       "4  30n20b8           18380          18318             62                0   \n",
       "\n",
       "   ConstraintsCons.  Nonz.Nonz.  param_id  runtime  gap  status  objval  \n",
       "0               576      109706         0    2.487  0.0       2   302.0  \n",
       "1               576      109706         1   90.003  0.0       9   302.0  \n",
       "2               576      109706         2   90.005  0.0       9   302.0  \n",
       "3               576      109706         3    4.297  0.0       2   302.0  \n",
       "4               576      109706         4   69.428  0.0       2   302.0  "
      ]
     },
     "execution_count": 3,
     "metadata": {},
     "output_type": "execute_result"
    }
   ],
   "source": [
    "df = pd.read_csv(\"..\\data\\processed\\modeldataset.csv\")\n",
    "df.head()"
   ]
  },
  {
   "cell_type": "markdown",
   "id": "ba371b05",
   "metadata": {},
   "source": [
    "## Overview Analysis\n",
    "\n",
    "- parameter sets counts --> just to check the completeness of the dataset\n",
    "- "
   ]
  },
  {
   "cell_type": "markdown",
   "id": "af020e94",
   "metadata": {},
   "source": [
    "#### Parameter sets counts"
   ]
  },
  {
   "cell_type": "code",
   "execution_count": null,
   "id": "502b2b37",
   "metadata": {},
   "outputs": [],
   "source": [
    "param_counts = df[\"param_id\"].value_counts().sort_index()\n",
    "param_counts.plot(kind=\"bar\", title=\"Parameter ID Distribution\", xlabel=\"param_id\", ylabel=\"Count\")"
   ]
  }
 ],
 "metadata": {
  "kernelspec": {
   "display_name": "MLprojects",
   "language": "python",
   "name": "python3"
  },
  "language_info": {
   "codemirror_mode": {
    "name": "ipython",
    "version": 3
   },
   "file_extension": ".py",
   "mimetype": "text/x-python",
   "name": "python",
   "nbconvert_exporter": "python",
   "pygments_lexer": "ipython3",
   "version": "3.11.11"
  }
 },
 "nbformat": 4,
 "nbformat_minor": 5
}
