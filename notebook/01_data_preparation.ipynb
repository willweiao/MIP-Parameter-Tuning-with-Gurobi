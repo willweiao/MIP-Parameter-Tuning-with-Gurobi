{
 "cells": [
  {
   "cell_type": "markdown",
   "id": "6194f81b",
   "metadata": {},
   "source": [
    "# 1. Data Preparation"
   ]
  },
  {
   "cell_type": "markdown",
   "id": "a6f9c2e3",
   "metadata": {},
   "source": [
    "## Imports"
   ]
  },
  {
   "cell_type": "code",
   "execution_count": 1,
   "id": "609646ed",
   "metadata": {},
   "outputs": [],
   "source": [
    "import os\n",
    "import shutil\n",
    "import pandas as pd"
   ]
  },
  {
   "cell_type": "markdown",
   "id": "e2107651",
   "metadata": {},
   "source": [
    "## Feasibilty filtering\n"
   ]
  },
  {
   "cell_type": "code",
   "execution_count": 2,
   "id": "7d643a26",
   "metadata": {},
   "outputs": [],
   "source": [
    "# read solu file to get all feasible instances\n",
    "def get_solved_instances(solu_path):\n",
    "    solved = set()\n",
    "    with open(solu_path, \"r\") as f:\n",
    "        for line in f:\n",
    "            parts = line.strip().split()\n",
    "            if len(parts) >= 3 and parts[0] in (\"=opt=\", \"=best=\"):\n",
    "                solved.add(parts[1].lower())\n",
    "    return solved\n",
    "\n",
    "# copy solved .mps.gz file\n",
    "def copy_solved_mps_files(src_folder, dst_folder, solved_instances):\n",
    "    os.makedirs(dst_folder, exist_ok=True)\n",
    "    copied_files = []\n",
    "    for file in os.listdir(src_folder):\n",
    "        if file.endswith(\".mps.gz\"):\n",
    "            instance = file.replace(\".mps.gz\", \"\").lower()\n",
    "            if instance in solved_instances:\n",
    "                src_path = os.path.join(src_folder, file)\n",
    "                dst_path = os.path.join(dst_folder, file)\n",
    "                shutil.copy2(src_path, dst_path)\n",
    "                copied_files.append(file)\n",
    "    print(f\"have copied {len(copied_files)} feasible files into {dst_folder}\")\n",
    "    return copied_files"
   ]
  },
  {
   "cell_type": "code",
   "execution_count": 4,
   "id": "47e4b728",
   "metadata": {},
   "outputs": [
    {
     "name": "stdout",
     "output_type": "stream",
     "text": [
      "have copied 233 feasible files into ../data/raw/benchmark_solved/\n"
     ]
    }
   ],
   "source": [
    "# Paths\n",
    "benchmark_folder = \"../data/raw/benchmark/\"\n",
    "solu_file = \"../data/raw/miplib2017-v35.solu.txt\"\n",
    "solved_folder = \"../data/raw/benchmark_solved/\"\n",
    "\n",
    "# Execute copying process\n",
    "solved_names = get_solved_instances(solu_file)\n",
    "copied_files = copy_solved_mps_files(benchmark_folder, solved_folder, solved_names)"
   ]
  },
  {
   "cell_type": "code",
   "execution_count": 5,
   "id": "ff0e96e9",
   "metadata": {},
   "outputs": [
    {
     "data": {
      "text/html": [
       "<div>\n",
       "<style scoped>\n",
       "    .dataframe tbody tr th:only-of-type {\n",
       "        vertical-align: middle;\n",
       "    }\n",
       "\n",
       "    .dataframe tbody tr th {\n",
       "        vertical-align: top;\n",
       "    }\n",
       "\n",
       "    .dataframe thead th {\n",
       "        text-align: right;\n",
       "    }\n",
       "</style>\n",
       "<table border=\"1\" class=\"dataframe\">\n",
       "  <thead>\n",
       "    <tr style=\"text-align: right;\">\n",
       "      <th></th>\n",
       "      <th>mps_file</th>\n",
       "    </tr>\n",
       "  </thead>\n",
       "  <tbody>\n",
       "    <tr>\n",
       "      <th>0</th>\n",
       "      <td>30n20b8.mps.gz</td>\n",
       "    </tr>\n",
       "    <tr>\n",
       "      <th>1</th>\n",
       "      <td>50v-10.mps.gz</td>\n",
       "    </tr>\n",
       "    <tr>\n",
       "      <th>2</th>\n",
       "      <td>academictimetablesmall.mps.gz</td>\n",
       "    </tr>\n",
       "    <tr>\n",
       "      <th>3</th>\n",
       "      <td>air05.mps.gz</td>\n",
       "    </tr>\n",
       "    <tr>\n",
       "      <th>4</th>\n",
       "      <td>app1-1.mps.gz</td>\n",
       "    </tr>\n",
       "  </tbody>\n",
       "</table>\n",
       "</div>"
      ],
      "text/plain": [
       "                        mps_file\n",
       "0                 30n20b8.mps.gz\n",
       "1                  50v-10.mps.gz\n",
       "2  academictimetablesmall.mps.gz\n",
       "3                   air05.mps.gz\n",
       "4                  app1-1.mps.gz"
      ]
     },
     "execution_count": 5,
     "metadata": {},
     "output_type": "execute_result"
    }
   ],
   "source": [
    "# Preview of copied files\n",
    "df_copied = pd.DataFrame(copied_files, columns=[\"mps_file\"])\n",
    "df_copied.head()"
   ]
  },
  {
   "cell_type": "markdown",
   "id": "044ddf52",
   "metadata": {},
   "source": [
    "## Prepare for starter"
   ]
  }
 ],
 "metadata": {
  "kernelspec": {
   "display_name": "projects",
   "language": "python",
   "name": "python3"
  },
  "language_info": {
   "codemirror_mode": {
    "name": "ipython",
    "version": 3
   },
   "file_extension": ".py",
   "mimetype": "text/x-python",
   "name": "python",
   "nbconvert_exporter": "python",
   "pygments_lexer": "ipython3",
   "version": "3.8.20"
  }
 },
 "nbformat": 4,
 "nbformat_minor": 5
}
