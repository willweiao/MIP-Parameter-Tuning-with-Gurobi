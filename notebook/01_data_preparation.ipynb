{
 "cells": [
  {
   "cell_type": "markdown",
   "id": "6194f81b",
   "metadata": {},
   "source": [
    "# 1. Data Preparation"
   ]
  },
  {
   "cell_type": "markdown",
   "id": "a6f9c2e3",
   "metadata": {},
   "source": [
    "## Imports"
   ]
  },
  {
   "cell_type": "code",
   "execution_count": 1,
   "id": "609646ed",
   "metadata": {},
   "outputs": [],
   "source": [
    "import os\n",
    "import shutil\n",
    "import pandas as pd"
   ]
  },
  {
   "cell_type": "markdown",
   "id": "e2107651",
   "metadata": {},
   "source": [
    "## Feasibilty filtering\n"
   ]
  },
  {
   "cell_type": "code",
   "execution_count": 2,
   "id": "7d643a26",
   "metadata": {},
   "outputs": [],
   "source": [
    "# read solu file to get all feasible instances\n",
    "def get_solved_instances(solu_path):\n",
    "    solved = set()\n",
    "    with open(solu_path, \"r\") as f:\n",
    "        for line in f:\n",
    "            parts = line.strip().split()\n",
    "            if len(parts) >= 3 and parts[0] in (\"=opt=\", \"=best=\"):\n",
    "                solved.add(parts[1].lower())\n",
    "    return solved\n",
    "\n",
    "# copy solved .mps.gz file\n",
    "def copy_solved_mps_files(src_folder, dst_folder, solved_instances):\n",
    "    os.makedirs(dst_folder, exist_ok=True)\n",
    "    copied_files = []\n",
    "    for file in os.listdir(src_folder):\n",
    "        if file.endswith(\".mps.gz\"):\n",
    "            instance = file.replace(\".mps.gz\", \"\").lower()\n",
    "            if instance in solved_instances:\n",
    "                src_path = os.path.join(src_folder, file)\n",
    "                dst_path = os.path.join(dst_folder, file)\n",
    "                shutil.copy2(src_path, dst_path)\n",
    "                copied_files.append(file)\n",
    "    print(f\"have copied {len(copied_files)} feasible files into {dst_folder}\")\n",
    "    return copied_files"
   ]
  },
  {
   "cell_type": "code",
   "execution_count": 3,
   "id": "47e4b728",
   "metadata": {},
   "outputs": [
    {
     "name": "stdout",
     "output_type": "stream",
     "text": [
      "have copied 233 feasible files into ../data/raw/benchmark_solved/\n"
     ]
    }
   ],
   "source": [
    "# Paths\n",
    "benchmark_folder = \"../data/raw/benchmark/\"\n",
    "solu_file = \"../data/raw/miplib2017-v35.solu.txt\"\n",
    "solved_folder = \"../data/raw/benchmark_solved/\"\n",
    "\n",
    "# Execute copying process\n",
    "solved_instances = get_solved_instances(solu_file)\n",
    "copied_files = copy_solved_mps_files(benchmark_folder, solved_folder, solved_instances)"
   ]
  },
  {
   "cell_type": "code",
   "execution_count": 4,
   "id": "ff0e96e9",
   "metadata": {},
   "outputs": [
    {
     "data": {
      "text/html": [
       "<div>\n",
       "<style scoped>\n",
       "    .dataframe tbody tr th:only-of-type {\n",
       "        vertical-align: middle;\n",
       "    }\n",
       "\n",
       "    .dataframe tbody tr th {\n",
       "        vertical-align: top;\n",
       "    }\n",
       "\n",
       "    .dataframe thead th {\n",
       "        text-align: right;\n",
       "    }\n",
       "</style>\n",
       "<table border=\"1\" class=\"dataframe\">\n",
       "  <thead>\n",
       "    <tr style=\"text-align: right;\">\n",
       "      <th></th>\n",
       "      <th>mps_file</th>\n",
       "    </tr>\n",
       "  </thead>\n",
       "  <tbody>\n",
       "    <tr>\n",
       "      <th>0</th>\n",
       "      <td>30n20b8.mps.gz</td>\n",
       "    </tr>\n",
       "    <tr>\n",
       "      <th>1</th>\n",
       "      <td>50v-10.mps.gz</td>\n",
       "    </tr>\n",
       "    <tr>\n",
       "      <th>2</th>\n",
       "      <td>academictimetablesmall.mps.gz</td>\n",
       "    </tr>\n",
       "    <tr>\n",
       "      <th>3</th>\n",
       "      <td>air05.mps.gz</td>\n",
       "    </tr>\n",
       "    <tr>\n",
       "      <th>4</th>\n",
       "      <td>app1-1.mps.gz</td>\n",
       "    </tr>\n",
       "  </tbody>\n",
       "</table>\n",
       "</div>"
      ],
      "text/plain": [
       "                        mps_file\n",
       "0                 30n20b8.mps.gz\n",
       "1                  50v-10.mps.gz\n",
       "2  academictimetablesmall.mps.gz\n",
       "3                   air05.mps.gz\n",
       "4                  app1-1.mps.gz"
      ]
     },
     "execution_count": 4,
     "metadata": {},
     "output_type": "execute_result"
    }
   ],
   "source": [
    "# Preview of copied files\n",
    "df_copied = pd.DataFrame(copied_files, columns=[\"mps_file\"])\n",
    "df_copied.head()"
   ]
  },
  {
   "cell_type": "code",
   "execution_count": 7,
   "id": "d1aa3ddd",
   "metadata": {},
   "outputs": [
    {
     "name": "stdout",
     "output_type": "stream",
     "text": [
      "Wrote 233 instances into ../data/instances/model_instances.txt\n"
     ]
    }
   ],
   "source": [
    "# Save benchmark_solved instances list to instance/model_instances.txt\n",
    "model_list_path = \"../data/instances/model_instances.txt\"\n",
    "os.makedirs(os.path.dirname(model_list_path), exist_ok=True)\n",
    "\n",
    "with open(model_list_path, \"w\") as f:\n",
    "    for name in copied_files:\n",
    "        f.write(name + \"\\n\")\n",
    "\n",
    "print(f\"Wrote {len(copied_files)} instances into {model_list_path}\")"
   ]
  },
  {
   "cell_type": "markdown",
   "id": "044ddf52",
   "metadata": {},
   "source": [
    "## Prepare for starter"
   ]
  },
  {
   "cell_type": "code",
   "execution_count": 8,
   "id": "91fdaf9a",
   "metadata": {},
   "outputs": [],
   "source": [
    "# Load The benchmark set.csv\n",
    "benchmark_csv = \"../data/raw/The Benchmark Set.csv\"\n",
    "df_benchmark = pd.read_csv(benchmark_csv)\n",
    "df_benchmark[\"instance\"] = df_benchmark[\"InstanceInst.\"].str.lower()\n",
    "df_benchmark[\"status\"] = df_benchmark[\"StatusStat.\"].str.lower()"
   ]
  },
  {
   "cell_type": "code",
   "execution_count": null,
   "id": "2ad11540",
   "metadata": {},
   "outputs": [
    {
     "name": "stdout",
     "output_type": "stream",
     "text": [
      "df_easy shape: (220, 14)\n"
     ]
    }
   ],
   "source": [
    "# Select easy and in solved instances\n",
    "df_easy = df_benchmark[df_benchmark[\"status\"] == \"easy\"]\n",
    "print(\"df_easy shape:\", df_easy.shape)"
   ]
  },
  {
   "cell_type": "code",
   "execution_count": 13,
   "id": "6cb20538",
   "metadata": {},
   "outputs": [
    {
     "name": "stdout",
     "output_type": "stream",
     "text": [
      "Select starter instances: ['neos-933966', 'ns1952667', 'neos-1456979', 's250r10', 'bppc4-08']\n"
     ]
    }
   ],
   "source": [
    "# fixed random seed and selected 5 different instances\n",
    "starter_df = df_easy.sample(n=5, random_state=42)\n",
    "starter_instances = starter_df[\"instance\"].tolist()\n",
    "\n",
    "# Path of starter folder\n",
    "starter_folder = \"../data/raw/starter\"\n",
    "\n",
    "print(f\"Select starter instances: {starter_instances}\")"
   ]
  },
  {
   "cell_type": "code",
   "execution_count": 14,
   "id": "1981b388",
   "metadata": {},
   "outputs": [
    {
     "name": "stdout",
     "output_type": "stream",
     "text": [
      "copied to: ../data/raw/starter\n",
      "wrote into: ../data/instances/starter_instances.txt\n"
     ]
    }
   ],
   "source": [
    "# from benchmark_solved copy .mps.gz file to starter folder\n",
    "for inst in starter_instances:\n",
    "    src = os.path.join(solved_folder, inst + \".mps.gz\")\n",
    "    dst = os.path.join(starter_folder, inst + \".mps.gz\")\n",
    "    shutil.copy2(src, dst)\n",
    "\n",
    "# write starter instances into instance/starter_instances.txt\n",
    "starter_list_path = \"../data/instances/starter_instances.txt\"\n",
    "os.makedirs(os.path.dirname(starter_list_path), exist_ok=True)\n",
    "\n",
    "with open(starter_list_path, \"w\") as f:\n",
    "    for inst in starter_instances:\n",
    "        f.write(inst + \".mps.gz\\n\")\n",
    "\n",
    "print(f\"copied to: {starter_folder}\")\n",
    "print(f\"wrote into: {starter_list_path}\")"
   ]
  }
 ],
 "metadata": {
  "kernelspec": {
   "display_name": "projects",
   "language": "python",
   "name": "python3"
  },
  "language_info": {
   "codemirror_mode": {
    "name": "ipython",
    "version": 3
   },
   "file_extension": ".py",
   "mimetype": "text/x-python",
   "name": "python",
   "nbconvert_exporter": "python",
   "pygments_lexer": "ipython3",
   "version": "3.8.20"
  }
 },
 "nbformat": 4,
 "nbformat_minor": 5
}
