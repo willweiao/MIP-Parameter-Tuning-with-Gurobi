{
 "cells": [
  {
   "cell_type": "markdown",
   "id": "0cb538fa",
   "metadata": {},
   "source": [
    "# 2. Parameters set"
   ]
  },
  {
   "cell_type": "markdown",
   "id": "8d1ee872",
   "metadata": {},
   "source": [
    "## Import"
   ]
  },
  {
   "cell_type": "code",
   "execution_count": 1,
   "id": "d25a467c",
   "metadata": {},
   "outputs": [],
   "source": [
    "import os\n",
    "import json\n",
    "import itertools"
   ]
  },
  {
   "cell_type": "markdown",
   "id": "22f3ca55",
   "metadata": {},
   "source": [
    "## Params Space"
   ]
  },
  {
   "cell_type": "code",
   "execution_count": 2,
   "id": "cebff5a7",
   "metadata": {},
   "outputs": [],
   "source": [
    "param_space = {\n",
    "    \"MIPFocus\": [1, 2, 3],\n",
    "    \"Cuts\": [0, 1, 2],\n",
    "    \"Presolve\": [0, 1, 2]\n",
    "}"
   ]
  },
  {
   "cell_type": "code",
   "execution_count": 3,
   "id": "79f7def1",
   "metadata": {},
   "outputs": [],
   "source": [
    "# baseline \n",
    "baseline_param = {\n",
    "    \"MIPFocus\": 0,\n",
    "    \"Cuts\": -1,\n",
    "    \"Presolve\": -1\n",
    "}"
   ]
  },
  {
   "cell_type": "markdown",
   "id": "d2e86481",
   "metadata": {},
   "source": [
    "## Set Construction"
   ]
  },
  {
   "cell_type": "code",
   "execution_count": 4,
   "id": "c3137066",
   "metadata": {},
   "outputs": [
    {
     "name": "stdout",
     "output_type": "stream",
     "text": [
      "Total number of Params sets: 27\n"
     ]
    }
   ],
   "source": [
    "keys = list(param_space.keys())\n",
    "combinations = list(itertools.product(*(param_space[k] for k in keys)))\n",
    "\n",
    "print(f\"Total number of Params sets: {len(combinations)}\")"
   ]
  },
  {
   "cell_type": "code",
   "execution_count": 5,
   "id": "e098b745",
   "metadata": {},
   "outputs": [],
   "source": [
    "# into dict form\n",
    "param_dicts = [{k: v for k, v in zip(keys, combo)} for combo in combinations]"
   ]
  },
  {
   "cell_type": "markdown",
   "id": "939624bb",
   "metadata": {},
   "source": [
    "## Output"
   ]
  },
  {
   "cell_type": "code",
   "execution_count": null,
   "id": "0376c4b1",
   "metadata": {},
   "outputs": [
    {
     "name": "stdout",
     "output_type": "stream",
     "text": [
      "Generated and saved 28 params sets into param_sets.json\n"
     ]
    }
   ],
   "source": [
    "# path\n",
    "param_dir = \"../data/params\"\n",
    "os.makedirs(param_dir, exist_ok=True)\n",
    "\n",
    "# All sets with baseline and get reordered（baseline = 0）\n",
    "param_dicts_with_baseline = [baseline_param] + param_dicts\n",
    "param_sets = {str(i): p for i, p in enumerate(param_dicts_with_baseline)}\n",
    "\n",
    "# Saved as .json file\n",
    "os.makedirs(\"../data/params\", exist_ok=True)\n",
    "with open(\"../data/params/param_sets.json\", \"w\") as f:\n",
    "    json.dump(param_sets, f, indent=2)\n",
    "\n",
    "print(f\"Generated and saved {len(param_sets)} params sets into param_sets.json\")"
   ]
  }
 ],
 "metadata": {
  "kernelspec": {
   "display_name": "MLprojects",
   "language": "python",
   "name": "python3"
  },
  "language_info": {
   "codemirror_mode": {
    "name": "ipython",
    "version": 3
   },
   "file_extension": ".py",
   "mimetype": "text/x-python",
   "name": "python",
   "nbconvert_exporter": "python",
   "pygments_lexer": "ipython3",
   "version": "3.11.11"
  }
 },
 "nbformat": 4,
 "nbformat_minor": 5
}
