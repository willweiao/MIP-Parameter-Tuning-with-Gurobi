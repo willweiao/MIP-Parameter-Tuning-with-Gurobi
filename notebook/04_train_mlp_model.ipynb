{
 "cells": [
  {
   "cell_type": "markdown",
   "id": "61bf2930",
   "metadata": {},
   "source": [
    "# 04. Training MLP model"
   ]
  },
  {
   "cell_type": "markdown",
   "id": "87ebe8f3",
   "metadata": {},
   "source": [
    "#### This notebook trains an MLP to predict Gurobi runtime based on structural features and param_id.\n",
    "It supports:\n",
    "- One-hot encoding for `param_id`\n",
    "- Train/Val/Test split\n",
    "- TensorBoard visualization"
   ]
  },
  {
   "cell_type": "markdown",
   "id": "4294be89",
   "metadata": {},
   "source": [
    "## Imports"
   ]
  },
  {
   "cell_type": "code",
   "execution_count": 1,
   "id": "916f4abe",
   "metadata": {},
   "outputs": [],
   "source": [
    "import pandas as pd\n",
    "import torch\n",
    "import sys\n",
    "import os\n",
    "import matplotlib.pyplot as plt\n",
    "from torch.utils.data import random_split, DataLoader"
   ]
  },
  {
   "cell_type": "code",
   "execution_count": 2,
   "id": "2c2f6ea8",
   "metadata": {},
   "outputs": [],
   "source": [
    "# set up project root path\n",
    "project_root = os.path.abspath(os.path.join(os.getcwd(), \"..\"))\n",
    "if project_root not in sys.path:\n",
    "    sys.path.append(project_root)"
   ]
  },
  {
   "cell_type": "code",
   "execution_count": 3,
   "id": "68b3765c",
   "metadata": {},
   "outputs": [],
   "source": [
    "from src.train_model import MIPDataset, MLPRegressor, load_data, train_loop, evaluate_loop"
   ]
  },
  {
   "cell_type": "markdown",
   "id": "736cb282",
   "metadata": {},
   "source": [
    "## Datasets"
   ]
  },
  {
   "cell_type": "code",
   "execution_count": 4,
   "id": "b481d257",
   "metadata": {},
   "outputs": [],
   "source": [
    "OUTPUT_CSV = \"../data/processed/modeldataset.csv\"\n",
    "FEATURE_COLS = [\"VariablesVari.\", \"BinariesBina.\", \"IntegersInte.\",\n",
    "                \"ContinuousCont.\", \"ConstraintsCons.\", \"Nonz.Nonz.\"]\n",
    "\n",
    "X_scaled, y = load_data(OUTPUT_CSV, FEATURE_COLS)\n",
    "dataset = MIPDataset(X_scaled, y)"
   ]
  },
  {
   "cell_type": "code",
   "execution_count": 5,
   "id": "ca231172",
   "metadata": {},
   "outputs": [],
   "source": [
    "n = len(dataset)\n",
    "n_test = int(n * 0.1)\n",
    "n_val = int(n * 0.1)\n",
    "n_train = n - n_val - n_test\n",
    "\n",
    "train_set, val_set, test_set = random_split(dataset, [n_train, n_val, n_test], generator=torch.Generator().manual_seed(20))\n",
    "\n",
    "train_loader = DataLoader(train_set, batch_size=32, shuffle=True)\n",
    "val_loader   = DataLoader(val_set, batch_size=64)\n",
    "test_loader  = DataLoader(test_set, batch_size=64)"
   ]
  },
  {
   "cell_type": "markdown",
   "id": "b4be260a",
   "metadata": {},
   "source": [
    "## Training"
   ]
  },
  {
   "cell_type": "code",
   "execution_count": 6,
   "id": "57567b0d",
   "metadata": {},
   "outputs": [
    {
     "name": "stdout",
     "output_type": "stream",
     "text": [
      "[Epoch 01] Train Loss: 1.2451 | Val Loss: 0.9428\n",
      "[Epoch 02] Train Loss: 1.0039 | Val Loss: 0.9300\n",
      "[Epoch 03] Train Loss: 1.0004 | Val Loss: 0.9248\n",
      "[Epoch 04] Train Loss: 0.9866 | Val Loss: 0.9216\n",
      "[Epoch 05] Train Loss: 0.9996 | Val Loss: 0.9230\n",
      "[Epoch 06] Train Loss: 0.9953 | Val Loss: 0.9218\n",
      "[Epoch 07] Train Loss: 0.9775 | Val Loss: 0.9233\n",
      "[Epoch 08] Train Loss: 0.9849 | Val Loss: 0.9176\n",
      "[Epoch 09] Train Loss: 0.9765 | Val Loss: 0.9192\n",
      "[Epoch 10] Train Loss: 0.9778 | Val Loss: 0.9192\n",
      "[Epoch 11] Train Loss: 0.9769 | Val Loss: 0.9179\n",
      "[Epoch 12] Train Loss: 0.9742 | Val Loss: 0.9235\n",
      "[Epoch 13] Train Loss: 0.9752 | Val Loss: 0.9219\n",
      "[Epoch 14] Train Loss: 0.9791 | Val Loss: 0.9295\n",
      "[Epoch 15] Train Loss: 0.9773 | Val Loss: 0.9202\n",
      "[Epoch 16] Train Loss: 0.9760 | Val Loss: 0.9264\n",
      "[Epoch 17] Train Loss: 0.9661 | Val Loss: 0.9189\n",
      "[Epoch 18] Train Loss: 0.9660 | Val Loss: 0.9132\n",
      "[Epoch 19] Train Loss: 0.9698 | Val Loss: 0.9177\n",
      "[Epoch 20] Train Loss: 0.9610 | Val Loss: 0.9272\n",
      "[Epoch 21] Train Loss: 0.9705 | Val Loss: 0.9152\n",
      "[Epoch 22] Train Loss: 0.9600 | Val Loss: 0.9161\n",
      "[Epoch 23] Train Loss: 0.9626 | Val Loss: 0.9195\n",
      "[Epoch 24] Train Loss: 0.9617 | Val Loss: 0.9097\n",
      "[Epoch 25] Train Loss: 0.9610 | Val Loss: 0.9122\n",
      "[Epoch 26] Train Loss: 0.9604 | Val Loss: 0.9189\n",
      "[Epoch 27] Train Loss: 0.9546 | Val Loss: 0.9114\n",
      "[Epoch 28] Train Loss: 0.9581 | Val Loss: 0.9141\n",
      "[Epoch 29] Train Loss: 0.9563 | Val Loss: 0.9088\n",
      "[Epoch 30] Train Loss: 0.9548 | Val Loss: 0.9057\n",
      "[Epoch 31] Train Loss: 0.9441 | Val Loss: 0.9192\n",
      "[Epoch 32] Train Loss: 0.9473 | Val Loss: 0.9087\n",
      "[Epoch 33] Train Loss: 0.9474 | Val Loss: 0.9055\n",
      "[Epoch 34] Train Loss: 0.9464 | Val Loss: 0.9028\n",
      "[Epoch 35] Train Loss: 0.9467 | Val Loss: 0.9053\n",
      "[Epoch 36] Train Loss: 0.9477 | Val Loss: 0.9066\n",
      "[Epoch 37] Train Loss: 0.9379 | Val Loss: 0.8986\n",
      "[Epoch 38] Train Loss: 0.9387 | Val Loss: 0.9000\n",
      "[Epoch 39] Train Loss: 0.9417 | Val Loss: 0.8978\n",
      "[Epoch 40] Train Loss: 0.9360 | Val Loss: 0.9037\n",
      "[Epoch 41] Train Loss: 0.9245 | Val Loss: 0.8998\n",
      "[Epoch 42] Train Loss: 0.9274 | Val Loss: 0.8972\n",
      "[Epoch 43] Train Loss: 0.9243 | Val Loss: 0.8939\n",
      "[Epoch 44] Train Loss: 0.9230 | Val Loss: 0.8978\n",
      "[Epoch 45] Train Loss: 0.9322 | Val Loss: 0.8964\n",
      "[Epoch 46] Train Loss: 0.9255 | Val Loss: 0.9020\n",
      "[Epoch 47] Train Loss: 0.9308 | Val Loss: 0.8895\n",
      "[Epoch 48] Train Loss: 0.9305 | Val Loss: 0.8974\n",
      "[Epoch 49] Train Loss: 0.9181 | Val Loss: 0.8922\n",
      "[Epoch 50] Train Loss: 0.9196 | Val Loss: 0.8921\n",
      "[Epoch 51] Train Loss: 0.9179 | Val Loss: 0.8852\n",
      "[Epoch 52] Train Loss: 0.9296 | Val Loss: 0.8899\n",
      "[Epoch 53] Train Loss: 0.9121 | Val Loss: 0.8904\n",
      "[Epoch 54] Train Loss: 0.9191 | Val Loss: 0.8909\n",
      "[Epoch 55] Train Loss: 0.9183 | Val Loss: 0.8859\n",
      "[Epoch 56] Train Loss: 0.9134 | Val Loss: 0.8903\n",
      "[Epoch 57] Train Loss: 0.9117 | Val Loss: 0.8885\n",
      "[Epoch 58] Train Loss: 0.9143 | Val Loss: 0.8872\n",
      "[Epoch 59] Train Loss: 0.9152 | Val Loss: 0.8864\n",
      "[Epoch 60] Train Loss: 0.9108 | Val Loss: 0.8850\n",
      "[Epoch 61] Train Loss: 0.9029 | Val Loss: 0.8879\n",
      "[Epoch 62] Train Loss: 0.9149 | Val Loss: 0.8847\n",
      "[Epoch 63] Train Loss: 0.9105 | Val Loss: 0.8841\n",
      "[Epoch 64] Train Loss: 0.9077 | Val Loss: 0.8810\n",
      "[Epoch 65] Train Loss: 0.9049 | Val Loss: 0.8834\n",
      "[Epoch 66] Train Loss: 0.9012 | Val Loss: 0.8821\n",
      "[Epoch 67] Train Loss: 0.9048 | Val Loss: 0.8835\n",
      "[Epoch 68] Train Loss: 0.9065 | Val Loss: 0.8806\n",
      "[Epoch 69] Train Loss: 0.9084 | Val Loss: 0.8758\n",
      "[Epoch 70] Train Loss: 0.9068 | Val Loss: 0.8767\n",
      "[Epoch 71] Train Loss: 0.9045 | Val Loss: 0.8831\n",
      "[Epoch 72] Train Loss: 0.9124 | Val Loss: 0.8799\n",
      "[Epoch 73] Train Loss: 0.9098 | Val Loss: 0.8773\n",
      "[Epoch 74] Train Loss: 0.9003 | Val Loss: 0.8763\n",
      "[Epoch 75] Train Loss: 0.8956 | Val Loss: 0.8775\n",
      "[Epoch 76] Train Loss: 0.9033 | Val Loss: 0.8792\n",
      "[Epoch 77] Train Loss: 0.9015 | Val Loss: 0.8791\n",
      "[Epoch 78] Train Loss: 0.8968 | Val Loss: 0.8949\n",
      "[Epoch 79] Train Loss: 0.9080 | Val Loss: 0.8772\n",
      "[Epoch 80] Train Loss: 0.8949 | Val Loss: 0.8744\n",
      "[Epoch 81] Train Loss: 0.8985 | Val Loss: 0.8734\n",
      "[Epoch 82] Train Loss: 0.8986 | Val Loss: 0.8747\n",
      "[Epoch 83] Train Loss: 0.8941 | Val Loss: 0.8788\n",
      "[Epoch 84] Train Loss: 0.8852 | Val Loss: 0.8797\n",
      "[Epoch 85] Train Loss: 0.8912 | Val Loss: 0.8716\n",
      "[Epoch 86] Train Loss: 0.8987 | Val Loss: 0.8680\n",
      "[Epoch 87] Train Loss: 0.8897 | Val Loss: 0.8744\n",
      "[Epoch 88] Train Loss: 0.8942 | Val Loss: 0.8750\n",
      "[Epoch 89] Train Loss: 0.8923 | Val Loss: 0.8725\n",
      "[Epoch 90] Train Loss: 0.8833 | Val Loss: 0.8687\n",
      "[Epoch 91] Train Loss: 0.8859 | Val Loss: 0.8658\n",
      "[Epoch 92] Train Loss: 0.8843 | Val Loss: 0.8637\n",
      "[Epoch 93] Train Loss: 0.8883 | Val Loss: 0.8654\n",
      "[Epoch 94] Train Loss: 0.8827 | Val Loss: 0.8686\n",
      "[Epoch 95] Train Loss: 0.8868 | Val Loss: 0.8619\n",
      "[Epoch 96] Train Loss: 0.8923 | Val Loss: 0.8687\n",
      "[Epoch 97] Train Loss: 0.8885 | Val Loss: 0.8620\n",
      "[Epoch 98] Train Loss: 0.8926 | Val Loss: 0.8604\n",
      "[Epoch 99] Train Loss: 0.8849 | Val Loss: 0.8620\n",
      "[Epoch 100] Train Loss: 0.8874 | Val Loss: 0.8643\n",
      "[Epoch 101] Train Loss: 0.8873 | Val Loss: 0.8655\n",
      "[Epoch 102] Train Loss: 0.8811 | Val Loss: 0.8597\n",
      "[Epoch 103] Train Loss: 0.8846 | Val Loss: 0.8666\n",
      "[Epoch 104] Train Loss: 0.8836 | Val Loss: 0.8588\n",
      "[Epoch 105] Train Loss: 0.8831 | Val Loss: 0.8578\n",
      "[Epoch 106] Train Loss: 0.8774 | Val Loss: 0.8590\n",
      "[Epoch 107] Train Loss: 0.8810 | Val Loss: 0.8599\n",
      "[Epoch 108] Train Loss: 0.8842 | Val Loss: 0.8583\n",
      "[Epoch 109] Train Loss: 0.8723 | Val Loss: 0.8586\n",
      "[Epoch 110] Train Loss: 0.8775 | Val Loss: 0.8565\n",
      "[Epoch 111] Train Loss: 0.8860 | Val Loss: 0.8521\n",
      "[Epoch 112] Train Loss: 0.8717 | Val Loss: 0.8520\n",
      "[Epoch 113] Train Loss: 0.8770 | Val Loss: 0.8578\n",
      "[Epoch 114] Train Loss: 0.8717 | Val Loss: 0.8486\n",
      "[Epoch 115] Train Loss: 0.8813 | Val Loss: 0.8484\n",
      "[Epoch 116] Train Loss: 0.8770 | Val Loss: 0.8481\n",
      "[Epoch 117] Train Loss: 0.8728 | Val Loss: 0.8584\n",
      "[Epoch 118] Train Loss: 0.8736 | Val Loss: 0.8607\n",
      "[Epoch 119] Train Loss: 0.8800 | Val Loss: 0.8474\n",
      "[Epoch 120] Train Loss: 0.8785 | Val Loss: 0.8450\n",
      "[Epoch 121] Train Loss: 0.8742 | Val Loss: 0.8522\n",
      "[Epoch 122] Train Loss: 0.8814 | Val Loss: 0.8482\n",
      "[Epoch 123] Train Loss: 0.8691 | Val Loss: 0.8493\n",
      "[Epoch 124] Train Loss: 0.8689 | Val Loss: 0.8461\n",
      "[Epoch 125] Train Loss: 0.8680 | Val Loss: 0.8441\n",
      "[Epoch 126] Train Loss: 0.8661 | Val Loss: 0.8436\n",
      "[Epoch 127] Train Loss: 0.8697 | Val Loss: 0.8472\n",
      "[Epoch 128] Train Loss: 0.8688 | Val Loss: 0.8482\n",
      "[Epoch 129] Train Loss: 0.8696 | Val Loss: 0.8484\n",
      "[Epoch 130] Train Loss: 0.8638 | Val Loss: 0.8456\n",
      "[Epoch 131] Train Loss: 0.8744 | Val Loss: 0.8436\n",
      "[Epoch 132] Train Loss: 0.8643 | Val Loss: 0.8470\n",
      "[Epoch 133] Train Loss: 0.8668 | Val Loss: 0.8431\n",
      "[Epoch 134] Train Loss: 0.8626 | Val Loss: 0.8413\n",
      "[Epoch 135] Train Loss: 0.8711 | Val Loss: 0.8387\n",
      "[Epoch 136] Train Loss: 0.8603 | Val Loss: 0.8488\n",
      "[Epoch 137] Train Loss: 0.8566 | Val Loss: 0.8418\n",
      "[Epoch 138] Train Loss: 0.8627 | Val Loss: 0.8372\n",
      "[Epoch 139] Train Loss: 0.8568 | Val Loss: 0.8395\n",
      "[Epoch 140] Train Loss: 0.8659 | Val Loss: 0.8383\n",
      "[Epoch 141] Train Loss: 0.8602 | Val Loss: 0.8381\n",
      "[Epoch 142] Train Loss: 0.8661 | Val Loss: 0.8395\n",
      "[Epoch 143] Train Loss: 0.8574 | Val Loss: 0.8431\n",
      "[Epoch 144] Train Loss: 0.8620 | Val Loss: 0.8365\n",
      "[Epoch 145] Train Loss: 0.8653 | Val Loss: 0.8437\n",
      "[Epoch 146] Train Loss: 0.8571 | Val Loss: 0.8336\n",
      "[Epoch 147] Train Loss: 0.8575 | Val Loss: 0.8353\n",
      "[Epoch 148] Train Loss: 0.8565 | Val Loss: 0.8401\n",
      "[Epoch 149] Train Loss: 0.8616 | Val Loss: 0.8338\n",
      "[Epoch 150] Train Loss: 0.8567 | Val Loss: 0.8394\n",
      "[Epoch 151] Train Loss: 0.8528 | Val Loss: 0.8347\n",
      "[Epoch 152] Train Loss: 0.8633 | Val Loss: 0.8333\n",
      "[Epoch 153] Train Loss: 0.8626 | Val Loss: 0.8401\n",
      "[Epoch 154] Train Loss: 0.8580 | Val Loss: 0.8381\n",
      "[Epoch 155] Train Loss: 0.8561 | Val Loss: 0.8412\n",
      "[Epoch 156] Train Loss: 0.8498 | Val Loss: 0.8361\n",
      "[Epoch 157] Train Loss: 0.8565 | Val Loss: 0.8402\n",
      "[Epoch 158] Train Loss: 0.8509 | Val Loss: 0.8334\n",
      "[Epoch 159] Train Loss: 0.8495 | Val Loss: 0.8310\n",
      "[Epoch 160] Train Loss: 0.8456 | Val Loss: 0.8308\n",
      "[Epoch 161] Train Loss: 0.8493 | Val Loss: 0.8320\n",
      "[Epoch 162] Train Loss: 0.8573 | Val Loss: 0.8406\n",
      "[Epoch 163] Train Loss: 0.8507 | Val Loss: 0.8250\n",
      "[Epoch 164] Train Loss: 0.8566 | Val Loss: 0.8304\n",
      "[Epoch 165] Train Loss: 0.8441 | Val Loss: 0.8300\n",
      "[Epoch 166] Train Loss: 0.8474 | Val Loss: 0.8255\n",
      "[Epoch 167] Train Loss: 0.8442 | Val Loss: 0.8276\n",
      "[Epoch 168] Train Loss: 0.8456 | Val Loss: 0.8281\n",
      "[Epoch 169] Train Loss: 0.8488 | Val Loss: 0.8257\n",
      "[Epoch 170] Train Loss: 0.8397 | Val Loss: 0.8297\n",
      "[Epoch 171] Train Loss: 0.8504 | Val Loss: 0.8276\n",
      "[Epoch 172] Train Loss: 0.8434 | Val Loss: 0.8338\n",
      "[Epoch 173] Train Loss: 0.8401 | Val Loss: 0.8262\n",
      "[Epoch 174] Train Loss: 0.8476 | Val Loss: 0.8290\n",
      "[Epoch 175] Train Loss: 0.8376 | Val Loss: 0.8295\n",
      "[Epoch 176] Train Loss: 0.8417 | Val Loss: 0.8240\n",
      "[Epoch 177] Train Loss: 0.8299 | Val Loss: 0.8297\n",
      "[Epoch 178] Train Loss: 0.8416 | Val Loss: 0.8234\n",
      "[Epoch 179] Train Loss: 0.8404 | Val Loss: 0.8213\n",
      "[Epoch 180] Train Loss: 0.8400 | Val Loss: 0.8227\n",
      "[Epoch 181] Train Loss: 0.8445 | Val Loss: 0.8221\n",
      "[Epoch 182] Train Loss: 0.8385 | Val Loss: 0.8222\n",
      "[Epoch 183] Train Loss: 0.8293 | Val Loss: 0.8129\n",
      "[Epoch 184] Train Loss: 0.8384 | Val Loss: 0.8174\n",
      "[Epoch 185] Train Loss: 0.8372 | Val Loss: 0.8188\n",
      "[Epoch 186] Train Loss: 0.8351 | Val Loss: 0.8248\n",
      "[Epoch 187] Train Loss: 0.8365 | Val Loss: 0.8247\n",
      "[Epoch 188] Train Loss: 0.8360 | Val Loss: 0.8210\n",
      "[Epoch 189] Train Loss: 0.8368 | Val Loss: 0.8195\n",
      "[Epoch 190] Train Loss: 0.8415 | Val Loss: 0.8240\n",
      "[Epoch 191] Train Loss: 0.8370 | Val Loss: 0.8195\n",
      "[Epoch 192] Train Loss: 0.8324 | Val Loss: 0.8125\n",
      "[Epoch 193] Train Loss: 0.8358 | Val Loss: 0.8120\n",
      "[Epoch 194] Train Loss: 0.8376 | Val Loss: 0.8026\n",
      "[Epoch 195] Train Loss: 0.8363 | Val Loss: 0.8197\n",
      "[Epoch 196] Train Loss: 0.8320 | Val Loss: 0.8140\n",
      "[Epoch 197] Train Loss: 0.8328 | Val Loss: 0.8134\n",
      "[Epoch 198] Train Loss: 0.8199 | Val Loss: 0.8091\n",
      "[Epoch 199] Train Loss: 0.8275 | Val Loss: 0.8129\n",
      "[Epoch 200] Train Loss: 0.8342 | Val Loss: 0.8086\n"
     ]
    }
   ],
   "source": [
    "device = \"cuda\" if torch.cuda.is_available() else \"cpu\"\n",
    "model = MLPRegressor(input_dim=X_scaled.shape[1])\n",
    "optimizer = torch.optim.Adam(model.parameters(), lr=1e-3)\n",
    "criterion = torch.nn.SmoothL1Loss()\n",
    "\n",
    "model, train_losses, val_losses = train_loop(model, train_loader, val_loader, optimizer, criterion,\n",
    "                                        epochs=200, device=device, early_stopping=False, patience=10,\n",
    "                                        delta=1e-4, save_path=\"../model/best_model.pt\")"
   ]
  },
  {
   "cell_type": "code",
   "execution_count": 7,
   "id": "cc1f5bbc",
   "metadata": {},
   "outputs": [
    {
     "data": {
      "image/png": "[encoded data removed]",
      "text/plain": [
       "<Figure size 1000x500 with 1 Axes>"
      ]
     },
     "metadata": {},
     "output_type": "display_data"
    }
   ],
   "source": [
    "# plot the loss curves\n",
    "plt.figure(figsize=(10, 5))\n",
    "plt.plot(train_losses, label='Train Loss')\n",
    "plt.plot(val_losses, label='Validation Loss')\n",
    "plt.xlabel(\"Epoch\")\n",
    "plt.ylabel(\"SmoothL1 Loss\")\n",
    "plt.title(\"Training Curve\")\n",
    "plt.legend()\n",
    "plt.grid(True)\n",
    "plt.show()"
   ]
  },
  {
   "cell_type": "code",
   "execution_count": 8,
   "id": "88e60a70",
   "metadata": {},
   "outputs": [
    {
     "name": "stdout",
     "output_type": "stream",
     "text": [
      "\n",
      " Test Set:\n",
      "  MAE : 41.66371060833719\n",
      "  R²  : -0.006312324117353274\n",
      "\n",
      "Sample Predictions (first 10):\n",
      "True: 44.04 s | Pred: 27.91 s | Δ = 16.12\n",
      "True: 58.09 s | Pred: 44.78 s | Δ = 13.31\n",
      "True: 90.00 s | Pred: 24.61 s | Δ = 65.39\n",
      "True: 20.47 s | Pred: 13.25 s | Δ = 7.21\n",
      "True: 90.00 s | Pred: 19.27 s | Δ = 70.73\n",
      "True: 90.01 s | Pred: 2.21 s | Δ = 87.79\n",
      "True: 3.56 s | Pred: 17.98 s | Δ = 14.41\n",
      "True: 4.50 s | Pred: 5.28 s | Δ = 0.78\n",
      "True: 27.30 s | Pred: 9.91 s | Δ = 17.39\n",
      "True: 28.37 s | Pred: 39.37 s | Δ = 11.00\n"
     ]
    }
   ],
   "source": [
    "evaluate_loop(model, test_loader, device=device, label=\"Test\")"
   ]
  }
 ],
 "metadata": {
  "kernelspec": {
   "display_name": "MLprojects",
   "language": "python",
   "name": "python3"
  },
  "language_info": {
   "codemirror_mode": {
    "name": "ipython",
    "version": 3
   },
   "file_extension": ".py",
   "mimetype": "text/x-python",
   "name": "python",
   "nbconvert_exporter": "python",
   "pygments_lexer": "ipython3",
   "version": "3.11.11"
  }
 },
 "nbformat": 4,
 "nbformat_minor": 5
}
